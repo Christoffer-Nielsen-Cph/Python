{
 "cells": [
  {
   "cell_type": "markdown",
   "id": "1d12e27e-d46a-41b6-a4a7-00dc2b145a88",
   "metadata": {},
   "source": [
    "# Task one - day one"
   ]
  },
  {
   "cell_type": "markdown",
   "id": "9ed1cc15-ee88-4e85-804d-26d555ad075c",
   "metadata": {},
   "source": [
    "# Week 1: Sequence, Dict, Set\n",
    "1. Create a list of first names as strings (size 10)\n",
    "2. Print \"Hello \" + name for all 10 names\n",
    "3. With list comprehension add a last name to each name in the list and save in new variable\n",
    "4. Create 2 new lists of equal size to names containing lastnames and ages and zip names, lastnames and ages\n",
    "5. With a dictionary comprehension create a dict with an id as key and (firstname, lastname, age) as value (in a tuple)\n",
    "6. Loop over list of names and create a dictionary with {name:len(names)} (use the .setdefault method)\n",
    "7. Sort the dictionary by length of names\n",
    "8. Create a for loop that can populate a dictionary from 2 sets (student_name (key) and student_address (value))"
   ]
  },
  {
   "cell_type": "code",
   "execution_count": 1,
   "id": "f10a5791-998a-4dee-ab95-90250999943a",
   "metadata": {},
   "outputs": [],
   "source": [
    "nameList = ['Frank','Anders','Mark','Oscar','Oliver','Hans','Mette','Lone','Julie','Ole']"
   ]
  },
  {
   "cell_type": "code",
   "execution_count": null,
   "id": "07b29d8d-fdf4-4e51-b442-01a74fcf7be3",
   "metadata": {},
   "outputs": [],
   "source": [
    "for val in nameList:\n",
    "    print('Hello'+"
   ]
  }
 ],
 "metadata": {
  "kernelspec": {
   "display_name": "Python 3 (ipykernel)",
   "language": "python",
   "name": "python3"
  },
  "language_info": {
   "codemirror_mode": {
    "name": "ipython",
    "version": 3
   },
   "file_extension": ".py",
   "mimetype": "text/x-python",
   "name": "python",
   "nbconvert_exporter": "python",
   "pygments_lexer": "ipython3",
   "version": "3.10.6"
  }
 },
 "nbformat": 4,
 "nbformat_minor": 5
}
