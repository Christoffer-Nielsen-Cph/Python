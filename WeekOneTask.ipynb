{
 "cells": [
  {
   "cell_type": "markdown",
   "id": "d56dd9c5-583c-4967-8e43-fee0a6fa8835",
   "metadata": {},
   "source": [
    "## Part 1\n",
    "\n",
    " 1. Create 5 list comprehensions to solve the following 5 problems:\n",
    " 2. Iterate a list of names to return a list of the names starting with H\n",
    " 3. In one line create a list of the numbers 1-100 to the power of 3\n",
    " 4. Iterate a list of names to create a list of tuples where the tuples first value is the length of the name and the second is the name\n",
    " 5. Iterate over each character in a string and get only those that are nummeric\n",
    " 6. Using only a list comprehension wrapped in set() get all possible combinations from throwing 2 dice (hint use 2 for loops in a single list comprehension). Result should look like: [2,3,4,5,6,7,8,...] or a more complex/accurate solution: [(1,1),(1,2)...] in a way that (1,2) is equal to (2,1)."
   ]
  },
  {
   "cell_type": "code",
   "execution_count": null,
   "id": "368644f4-315c-4456-ba29-9d94ef6d4536",
   "metadata": {},
   "outputs": [],
   "source": []
  }
 ],
 "metadata": {
  "kernelspec": {
   "display_name": "Python 3 (ipykernel)",
   "language": "python",
   "name": "python3"
  },
  "language_info": {
   "codemirror_mode": {
    "name": "ipython",
    "version": 3
   },
   "file_extension": ".py",
   "mimetype": "text/x-python",
   "name": "python",
   "nbconvert_exporter": "python",
   "pygments_lexer": "ipython3",
   "version": "3.10.6"
  }
 },
 "nbformat": 4,
 "nbformat_minor": 5
}
