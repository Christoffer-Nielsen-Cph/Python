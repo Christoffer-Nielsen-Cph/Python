{
 "cells": [
  {
   "cell_type": "markdown",
   "id": "1d12e27e-d46a-41b6-a4a7-00dc2b145a88",
   "metadata": {},
   "source": [
    "# Task one - day one"
   ]
  },
  {
   "cell_type": "markdown",
   "id": "9ed1cc15-ee88-4e85-804d-26d555ad075c",
   "metadata": {},
   "source": [
    "# Week 1: Sequence, Dict, Set\n",
    "1. Create a list of first names as strings (size 10)\n",
    "2. Print \"Hello \" + name for all 10 names\n",
    "3. With list comprehension add a last name to each name in the list and save in new variable\n",
    "4. Create 2 new lists of equal size to names containing lastnames and ages and zip names, lastnames and ages\n",
    "5. With a dictionary comprehension create a dict with an id as key and (firstname, lastname, age) as value (in a tuple)\n",
    "6. Loop over list of names and create a dictionary with {name:len(names)} (use the .setdefault method)\n",
    "7. Sort the dictionary by length of names\n",
    "8. Create a for loop that can populate a dictionary from 2 sets (student_name (key) and student_address (value))"
   ]
  },
  {
   "cell_type": "code",
   "execution_count": 1,
   "id": "f10a5791-998a-4dee-ab95-90250999943a",
   "metadata": {},
   "outputs": [
    {
     "name": "stdout",
     "output_type": "stream",
     "text": [
      "---Task One---\n",
      "['Frank', 'Anders', 'Mark', 'Oscar', 'Oliver', 'Hans', 'Mette', 'Lone', 'Julie', 'Ole']\n",
      "---Task Two---\n",
      "Hello Frank\n",
      "Hello Anders\n",
      "Hello Mark\n",
      "Hello Oscar\n",
      "Hello Oliver\n",
      "Hello Hans\n",
      "Hello Mette\n",
      "Hello Lone\n",
      "Hello Julie\n",
      "Hello Ole\n",
      "---Task Three---\n",
      "['Frank Henriksen', 'Anders Henriksen', 'Mark Henriksen', 'Oscar Henriksen', 'Oliver Henriksen', 'Hans Henriksen', 'Mette Henriksen', 'Lone Henriksen', 'Julie Henriksen', 'Ole Henriksen']\n",
      "---Task Four---\n",
      "[('Frank', 'Nielsen', 10), ('Anders', 'Perch', 12), ('Mark', 'Harritz', 16), ('Oscar', 'Hartman', 14), ('Oliver', 'Hemmingsen', 30), ('Hans', 'Tuff', 15), ('Mette', 'Lundgaard', 16), ('Lone', 'Sloth', 9), ('Julie', 'Meinicke', 18), ('Ole', 'Ahmed', 20)]\n",
      "---Task Five---\n",
      "{1: ('Frank', 'Nielsen', 10), 2: ('Anders', 'Perch', 12), 3: ('Mark', 'Harritz', 16), 4: ('Oscar', 'Hartman', 14), 5: ('Oliver', 'Hemmingsen', 30), 6: ('Hans', 'Tuff', 15), 7: ('Mette', 'Lundgaard', 16), 8: ('Lone', 'Sloth', 9), 9: ('Julie', 'Meinicke', 18)}\n",
      "---Task Six---\n",
      "{'Nielsen': 7, 'Perch': 5, 'Harritz': 7, 'Hartman': 7, 'Hemmingsen': 10, 'Tuff': 4, 'Lundgaard': 9, 'Sloth': 5, 'Meinicke': 8, 'Ahmed': 5}\n",
      "---Task Seven---\n",
      "{'Tuff': 4, 'Perch': 5, 'Sloth': 5, 'Ahmed': 5, 'Nielsen': 7, 'Harritz': 7, 'Hartman': 7, 'Meinicke': 8, 'Lundgaard': 9, 'Hemmingsen': 10}\n",
      "---Task Eight---\n",
      "{'Frank': 'Nielsen', 'Anders': 'Perch', 'Mark': 'Harritz', 'Oscar': 'Hartman', 'Oliver': 'Hemmingsen', 'Hans': 'Tuff', 'Mette': 'Lundgaard', 'Lone': 'Sloth', 'Julie': 'Meinicke', 'Ole': 'Ahmed'}\n"
     ]
    }
   ],
   "source": [
    "#1\n",
    "print('---Task One---')\n",
    "names = ['Frank','Anders','Mark','Oscar','Oliver','Hans','Mette','Lone','Julie','Ole']\n",
    "print(names)\n",
    "#2\n",
    "print('---Task Two---')\n",
    "for name in names:\n",
    "    print('Hello',name)\n",
    "#3\n",
    "print('---Task Three---')\n",
    "full_names = [name+' Henriksen' for name in names]\n",
    "print(full_names)\n",
    "#4\n",
    "print('---Task Four---')\n",
    "lastnames = ['Nielsen','Perch','Harritz','Hartman','Hemmingsen','Tuff','Lundgaard','Sloth','Meinicke','Ahmed']\n",
    "ages = [10, 12, 16, 14, 30, 15, 16, 9, 18, 20]\n",
    "with_ages = [name for name in zip(names,lastnames,ages)]\n",
    "print(with_ages)\n",
    "#5\n",
    "print('---Task Five---')\n",
    "name_map = {idx:name for idx,name in zip(range(1,10),with_ages)}\n",
    "print(name_map)\n",
    "#6\n",
    "print('---Task Six---')\n",
    "result = {}\n",
    "for name in lastnames:\n",
    "    result.setdefault(name,len(name))\n",
    "print(result)\n",
    "#7\n",
    "print('---Task Seven---')\n",
    "sorted_result = dict(sorted(result.items(), key=lambda x:x[1]))\n",
    "print(sorted_result)\n",
    "#8\n",
    "print('---Task Eight---')\n",
    "result = {}\n",
    "for name,lastname in zip(names,lastnames):\n",
    "    result[name] = lastname\n",
    "print(result)"
   ]
  },
  {
   "cell_type": "code",
   "execution_count": null,
   "id": "e278c418-d151-45c3-90b6-e258dbf18970",
   "metadata": {},
   "outputs": [],
   "source": []
  }
 ],
 "metadata": {
  "kernelspec": {
   "display_name": "Python 3 (ipykernel)",
   "language": "python",
   "name": "python3"
  },
  "language_info": {
   "codemirror_mode": {
    "name": "ipython",
    "version": 3
   },
   "file_extension": ".py",
   "mimetype": "text/x-python",
   "name": "python",
   "nbconvert_exporter": "python",
   "pygments_lexer": "ipython3",
   "version": "3.10.6"
  }
 },
 "nbformat": 4,
 "nbformat_minor": 5
}
